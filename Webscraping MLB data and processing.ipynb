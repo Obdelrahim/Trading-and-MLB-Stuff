{
 "cells": [
  {
   "cell_type": "code",
   "execution_count": 10,
   "id": "6af0d89c",
   "metadata": {},
   "outputs": [],
   "source": [
    "from bs4 import BeautifulSoup\n",
    "import re\n",
    "import string\n",
    "import google\n",
    "from google.cloud import storage\n",
    "import os\n",
    "from io import StringIO\n",
    "from datetime import datetime\n",
    "import json, session_info, requests\n",
    "import pandas as pd \n",
    "import numpy as np\n",
    "import gspread\n",
    "from oauth2client.service_account import ServiceAccountCredentials\n",
    "from google.api_core.datetime_helpers import DatetimeWithNanoseconds"
   ]
  },
  {
   "cell_type": "code",
   "execution_count": 14,
   "id": "563b0a55",
   "metadata": {},
   "outputs": [],
   "source": [
    "scope = ['https://spreadsheets.google.com/feeds','https://www.googleapis.com/auth/drive']\n",
    "creds = ServiceAccountCredentials .from_json_keyfile_name(r\"E:\\Downloads\\Google Cloud Project\\Credentials.json\", scope)\n",
    "client = gspread.authorize(creds)\n",
    "sheet = client.open('Econ 446 Final').sheet1"
   ]
  },
  {
   "cell_type": "code",
   "execution_count": 20,
   "id": "5d39f977",
   "metadata": {},
   "outputs": [
    {
     "name": "stdout",
     "output_type": "stream",
     "text": [
      "Data successfully written to Google Sheet: Phillies Batting Data\n"
     ]
    }
   ],
   "source": [
    "url = \"https://www.baseball-reference.com/teams/PHI/2024.shtml\"\n",
    "response = requests.get(url)\n",
    "soup = BeautifulSoup(response.text, 'html.parser')\n",
    "table = soup.find('table', {'id': 'team_batting'})\n",
    "\n",
    "# Read the table into a DataFrame\n",
    "df = pd.read_html(str(table))[0]\n",
    "df = df.replace({float('inf'): None, float('-inf'): None})\n",
    "df = df.fillna('')\n",
    "\n",
    "spreadsheet_name = 'Phillies Batting Data'\n",
    "spreadsheet = client.open(spreadsheet_name)\n",
    "sheet = spreadsheet.sheet1  \n",
    "sheet.clear()\n",
    "sheet.update([df.columns.values.tolist()] + df.values.tolist())\n",
    "\n",
    "print(f\"Data successfully written to Google Sheet: {spreadsheet_name}\")"
   ]
  },
  {
   "cell_type": "code",
   "execution_count": 25,
   "id": "c8679c86",
   "metadata": {},
   "outputs": [
    {
     "name": "stdout",
     "output_type": "stream",
     "text": [
      "DataFrame loaded:\n",
      "  Rk Pos                     Name Age   G   PA   AB   R   H  2B  ...   OBP  \\\n",
      "0  1   C            J.T. Realmuto  33  51  223  207  28  54   8  ...  .309   \n",
      "1  2  1B            Bryce Harper*  31  60  263  220  36  61  11  ...  .388   \n",
      "2  3  2B            Bryson Stott*  26  60  231  194  32  47   6  ...  .342   \n",
      "3  4  SS  Trea Turner (10-day IL)  31  33  148  137  27  47  10  ...  .392   \n",
      "4  5  3B                Alec Bohm  27  64  270  244  30  71  23  ...  .348   \n",
      "\n",
      "    SLG   OPS OPS+   TB GDP HBP SH SF IBB  \n",
      "0  .411  .720  105   85   3   3  0  1   0  \n",
      "1  .532  .920  162  117   7   0  0  2   7  \n",
      "2  .371  .713  105   72   5   3  0  5   1  \n",
      "3  .460  .852  144   63   2   2  0  0   0  \n",
      "4  .467  .815  132  114   8   3  0  3   1  \n",
      "\n",
      "[5 rows x 28 columns]\n",
      "Data successfully written to Google Sheet: Phillies Batting Data\n"
     ]
    }
   ],
   "source": [
    "# Scraping\n",
    "url = \"https://www.baseball-reference.com/teams/PHI/2024.shtml\"\n",
    "response = requests.get(url)\n",
    "soup = BeautifulSoup(response.text, 'html.parser')\n",
    "\n",
    "# Find and read Data Frame\n",
    "table = soup.find('table', {'id': 'team_batting'})\n",
    "if table is None:\n",
    "    raise ValueError(\"Could not find the batting table.\")\n",
    "df = pd.read_html(str(table))[0]\n",
    "print(\"DataFrame loaded:\")\n",
    "print(df.head())\n",
    "\n",
    "# Remove NANS\n",
    "df = df.replace({float('inf'): None, float('-inf'): None})\n",
    "df = df.fillna('')\n",
    "\n",
    "# Use APIs needed\n",
    "scope = [\"https://spreadsheets.google.com/feeds\", \"https://www.googleapis.com/auth/spreadsheets\",\n",
    "         \"https://www.googleapis.com/auth/drive.file\", \"https://www.googleapis.com/auth/drive\"]\n",
    "creds = Credentials.from_service_account_file(r\"E:\\Downloads\\Google Cloud Project\\Credentials.json\", scopes=scope)\n",
    "client = gspread.authorize(creds)\n",
    "\n",
    "# Locate and Update Sheet as needed\n",
    "spreadsheet_name = 'Phillies Batting Data'\n",
    "spreadsheet = client.open(spreadsheet_name)\n",
    "sheet = spreadsheet.sheet1  \n",
    "sheet.clear()\n",
    "\n",
    "# Finish\n",
    "try:\n",
    "    sheet.update([df.columns.values.tolist()] + df.values.tolist())\n",
    "    print(f\"Data successfully written to Google Sheet: {spreadsheet_name}\")\n",
    "except Exception as e:\n",
    "    print(f\"An error occurred: {e}\")"
   ]
  },
  {
   "cell_type": "code",
   "execution_count": null,
   "id": "f0885445",
   "metadata": {},
   "outputs": [],
   "source": [
    "import requests\n",
    "import pandas as pd\n",
    "from bs4 import BeautifulSoup\n",
    "import gspread\n",
    "from google.oauth2.service_account import Credentials\n",
    "\n",
    "def batting_sheet(request):\n",
    "    try:\n",
    "        # Scrape \n",
    "        url = \"https://www.baseball-reference.com/teams/PHI/2024.shtml\"\n",
    "        response = requests.get(url)\n",
    "        soup = BeautifulSoup(response.text, 'html.parser')\n",
    "        table = soup.find('table', {'id': 'team_batting'})\n",
    "        if table is None:\n",
    "            return \"Could not find the batting table.\", 400\n",
    "\n",
    "        # Read table in as DataFrame and remove NaNs and other non Json compliant thigngs\n",
    "        df = pd.read_html(str(table))[0]\n",
    "        df = df.replace({float('inf'): None, float('-inf'): None})\n",
    "        df = df.fillna('')\n",
    "\n",
    "        # Authenticate with Google Sheets API\n",
    "        scope = [\"https://spreadsheets.google.com/feeds\", \"https://www.googleapis.com/auth/spreadsheets\",\n",
    "                 \"https://www.googleapis.com/auth/drive.file\", \"https://www.googleapis.com/auth/drive\"]\n",
    "        creds = Credentials.from_service_account_file('credentials.json', scopes=scope)\n",
    "        client = gspread.authorize(creds)\n",
    "\n",
    "        # Open existing sheet and clear for new data \n",
    "        spreadsheet_name = 'Phillies Batting Data'\n",
    "        spreadsheet = client.open(spreadsheet_name)\n",
    "        sheet = spreadsheet.sheet1 \n",
    "        sheet.clear()\n",
    "        sheet.update([df.columns.values.tolist()] + df.values.tolist())\n",
    "\n",
    "        return f\"Data successfully written to Google Sheet: {spreadsheet_name}\", 200\n",
    "    except Exception as e:\n",
    "        return f\"An error occurred: {e}\", 500"
   ]
  }
 ],
 "metadata": {
  "kernelspec": {
   "display_name": "Python 3 (ipykernel)",
   "language": "python",
   "name": "python3"
  },
  "language_info": {
   "codemirror_mode": {
    "name": "ipython",
    "version": 3
   },
   "file_extension": ".py",
   "mimetype": "text/x-python",
   "name": "python",
   "nbconvert_exporter": "python",
   "pygments_lexer": "ipython3",
   "version": "3.11.4"
  }
 },
 "nbformat": 4,
 "nbformat_minor": 5
}
